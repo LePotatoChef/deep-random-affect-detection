{
 "cells": [
  {
   "cell_type": "code",
   "execution_count": 1,
   "metadata": {},
   "outputs": [],
   "source": [
    "import numpy as np\n",
    "import pandas as pd\n",
    "import pickle as pk\n",
    "from sklearn.preprocessing import StandardScaler\n",
    "import matplotlib.pyplot as plt"
   ]
  },
  {
   "cell_type": "code",
   "execution_count": null,
   "metadata": {},
   "outputs": [],
   "source": [
    "# parse data to end at affect\n",
    "\n",
    "data = pd.read_csv('affect_behavior_action_clips.csv')\n",
    "data = data.sort_values(['user_id.x', 'time_sequence', 'start_time', 'attemptcount']).reset_index()\n",
    "\n",
    "input_names = ['time_taken', 'correct', 'original', 'hint', 'hintcount', 'total_hints', 'scaffold', 'bottom_hint', 'attemptcount', 'no_prob_type', 'algebra', 'choose_1', 'choose_n', 'fill_in_1', 'open_response']\n",
    "target_names = ['confusion', 'concentration', 'boredom', 'frustration']\n",
    "\n",
    "ss = StandardScaler()\n",
    "data[input_names] = ss.fit_transform(data[input_names])\n",
    "data[input_names] = data[input_names].fillna(0)\n",
    "\n",
    "input_data = []\n",
    "target_data = []\n",
    "sequence_lengths = []\n",
    "\n",
    "start = 0\n",
    "last_user = 0\n",
    "last_sequence = 0\n",
    "last_assignment = 0\n",
    "\n",
    "for i, row in data.iterrows():\n",
    "    user_change = last_user != row['user_id.x']\n",
    "    sequence_change = last_sequence != row['time_sequence']\n",
    "    assignment_change = last_assignment != row['assignment_id.x']\n",
    "    if (user_change or sequence_change or assignment_change):\n",
    "        start = i\n",
    "        last_user = row['user_id.x']\n",
    "        last_sequence = row['time_sequence']\n",
    "        last_assignment = row['assignment_id.x']\n",
    "    if np.sum(data.iloc[i][target_names].values) == 1:\n",
    "        sequence_lengths.append(i+1 - start)\n",
    "        input_data.append(data.iloc[start:i+1][input_names].values)\n",
    "        target_data.append(data.iloc[i][target_names].values)\n",
    "\n",
    "print(f'collected {len(input_data)} input samples')\n",
    "print(f'collected {len(target_data)} target samples')\n",
    "pk.dump(input_data, open('input_data1.pkl', 'wb'))\n",
    "pk.dump(target_data, open('target_data1.pkl', 'wb'))\n",
    "plt.figure()\n",
    "plt.hist(sequence_lengths, np.arange(101))\n",
    "plt.show()"
   ]
  },
  {
   "cell_type": "code",
   "execution_count": null,
   "metadata": {},
   "outputs": [],
   "source": []
  },
  {
   "cell_type": "code",
   "execution_count": null,
   "metadata": {},
   "outputs": [],
   "source": []
  },
  {
   "cell_type": "code",
   "execution_count": 4,
   "metadata": {
    "scrolled": true
   },
   "outputs": [
    {
     "name": "stdout",
     "output_type": "stream",
     "text": [
      "collected 3093 input samples\n",
      "collected 3093 target samples\n"
     ]
    },
    {
     "data": {
      "image/png": "[encoded data removed]",
      "text/plain": [
       "<Figure size 432x288 with 1 Axes>"
      ]
     },
     "metadata": {
      "needs_background": "light"
     },
     "output_type": "display_data"
    }
   ],
   "source": [
    "# parse data to end at affect\n",
    "\n",
    "data = pd.read_csv('affect_behavior_action_clips.csv')\n",
    "data = data.sort_values(['user_id.x', 'time_sequence', 'start_time', 'attemptcount']).reset_index()\n",
    "\n",
    "input_names = ['time_taken', 'correct', 'original', 'hint', 'hintcount', 'total_hints', 'scaffold', 'bottom_hint', 'attemptcount', 'no_prob_type', 'algebra', 'choose_1', 'choose_n', 'fill_in_1', 'open_response']\n",
    "target_names = ['confusion', 'concentration', 'boredom', 'frustration']\n",
    "\n",
    "ss = StandardScaler()\n",
    "data[input_names] = ss.fit_transform(data[input_names])\n",
    "data[input_names] = data[input_names].fillna(0)\n",
    "\n",
    "input_data = []\n",
    "target_data = []\n",
    "sequence_lengths = []\n",
    "\n",
    "start = 0\n",
    "last_user = 0\n",
    "last_sequence = 0\n",
    "last_assignment = 0\n",
    "\n",
    "for i, row in data.iterrows():\n",
    "    user_change = last_user != row['user_id.x']\n",
    "    sequence_change = last_sequence != row['time_sequence']\n",
    "    assignment_change = last_assignment != row['assignment_id.x']\n",
    "    if (user_change or sequence_change or assignment_change):\n",
    "        start = i\n",
    "        last_user = row['user_id.x']\n",
    "        last_sequence = row['time_sequence']\n",
    "        last_assignment = row['assignment_id.x']\n",
    "    if np.sum(data.iloc[i][target_names].values) == 1:\n",
    "        sequence_lengths.append(i+1 - start)\n",
    "        input_data.append(data.iloc[start:i+1][input_names].values)\n",
    "        target_data.append(data.iloc[i][target_names].values)\n",
    "\n",
    "print(f'collected {len(input_data)} input samples')\n",
    "print(f'collected {len(target_data)} target samples')\n",
    "pk.dump(input_data, open('input_data1.pkl', 'wb'))\n",
    "pk.dump(target_data, open('target_data1.pkl', 'wb'))\n",
    "plt.figure()\n",
    "plt.hist(sequence_lengths, np.arange(101))\n",
    "plt.show()"
   ]
  },
  {
   "cell_type": "code",
   "execution_count": 7,
   "metadata": {},
   "outputs": [
    {
     "name": "stdout",
     "output_type": "stream",
     "text": [
      "collected 3093 input samples\n",
      "collected 3093 target samples\n"
     ]
    },
    {
     "data": {
      "image/png": "[encoded data removed]",
      "text/plain": [
       "<Figure size 432x288 with 1 Axes>"
      ]
     },
     "metadata": {
      "needs_background": "light"
     },
     "output_type": "display_data"
    }
   ],
   "source": [
    "# parse data to end at affect\n",
    "\n",
    "data = pd.read_csv('affect_behavior_action_clips.csv')\n",
    "data = data.sort_values(['user_id.x', 'time_sequence', 'start_time', 'attemptcount']).reset_index()\n",
    "\n",
    "input_names = ['time_taken', 'correct', 'original', 'hint', 'hintcount', 'total_hints', 'scaffold', 'bottom_hint', 'attemptcount', 'no_prob_type', 'algebra', 'choose_1', 'choose_n', 'fill_in_1', 'open_response', 'avg_attemptCount', 'avg_bottomHint', 'avg_correct', 'avg_frIsHelpRequest', 'avg_frPast5HelpRequest', 'avg_frPast5WrongCount', 'avg_frPast8HelpRequest', 'avg_frPast8WrongCount', 'avg_frWorkingInSchool', 'avg_hint', 'avg_hintCount', 'avg_hintTotal', 'avg_original', 'avg_past8BottomOut', 'avg_scaffold', 'avg_stlHintUsed', 'avg_timeSinceSkill', 'avg_timeTaken', 'avg_totalFrAttempted', 'avg_totalFrPastWrongCount', 'avg_totalFrPercentPastWrong', 'avg_totalFrSkillOpportunities', 'avg_totalFrTimeOnSkill', 'max_attemptCount', 'max_bottomHint', 'max_correct', 'max_frIsHelpRequest', 'max_frPast5HelpRequest', 'max_frPast5WrongCount', 'max_frPast8HelpRequest', 'max_frPast8WrongCount', 'max_frWorkingInSchool', 'max_hint', 'max_hintCount', 'max_hintTotal', 'max_original', 'max_past8BottomOut', 'max_scaffold', 'max_stlHintUsed', 'max_timeSinceSkill', 'max_timeTaken', 'max_totalFrAttempted', 'max_totalFrPastWrongCount', 'max_totalFrPercentPastWrong', 'max_totalFrSkillOpportunities', 'max_totalFrTimeOnSkill', 'min_attemptCount', 'min_bottomHint', 'min_correct', 'min_frIsHelpRequest', 'min_frPast5HelpRequest', 'min_frPast5WrongCount', 'min_frPast8HelpRequest', 'min_frPast8WrongCount', 'min_frWorkingInSchool', 'min_hint', 'min_hintCount', 'min_hintTotal', 'min_original', 'min_past8BottomOut', 'min_scaffold', 'min_stlHintUsed', 'min_timeSinceSkill', 'min_timeTaken', 'min_totalFrAttempted', 'min_totalFrPastWrongCount', 'min_totalFrPercentPastWrong', 'min_totalFrSkillOpportunities', 'min_totalFrTimeOnSkill', 'sum_attemptCount', 'sum_bottomHint', 'sum_correct', 'sum_frIsHelpRequest', 'sum_frPast5HelpRequest', 'sum_frPast5WrongCount', 'sum_frPast8HelpRequest', 'sum_frPast8WrongCount', 'sum_frWorkingInSchool', 'sum_hint', 'sum_hintCount', 'sum_hintTotal', 'sum_original', 'sum_past8BottomOut', 'sum_scaffold', 'sum_stlHintUsed', 'sum_timeSinceSkill', 'sum_timeTaken', 'sum_totalFrAttempted', 'sum_totalFrPastWrongCount', 'sum_totalFrPercentPastWrong', 'sum_totalFrSkillOpportunities', 'sum_totalFrTimeOnSkill']\n",
    "target_names = ['confusion', 'concentration', 'boredom', 'frustration']\n",
    "\n",
    "ss = StandardScaler()\n",
    "data[input_names] = ss.fit_transform(data[input_names])\n",
    "data[input_names] = data[input_names].fillna(0)\n",
    "\n",
    "input_data = []\n",
    "target_data = []\n",
    "sequence_lengths = []\n",
    "\n",
    "start = 0\n",
    "last_user = 0\n",
    "last_sequence = 0\n",
    "last_assignment = 0\n",
    "\n",
    "for i, row in data.iterrows():\n",
    "    user_change = last_user != row['user_id.x']\n",
    "    sequence_change = last_sequence != row['time_sequence']\n",
    "    assignment_change = last_assignment != row['assignment_id.x']\n",
    "    if (user_change or sequence_change or assignment_change):\n",
    "        start = i\n",
    "        last_user = row['user_id.x']\n",
    "        last_sequence = row['time_sequence']\n",
    "        last_assignment = row['assignment_id.x']\n",
    "    if np.sum(data.iloc[i][target_names].values) == 1:\n",
    "        sequence_lengths.append(i+1 - start)\n",
    "        input_data.append(data.iloc[start:i+1][input_names].values)\n",
    "        target_data.append(data.iloc[i][target_names].values)\n",
    "\n",
    "print(f'collected {len(input_data)} input samples')\n",
    "print(f'collected {len(target_data)} target samples')\n",
    "pk.dump(input_data, open('input_data2.pkl', 'wb'))\n",
    "pk.dump(target_data, open('target_data2.pkl', 'wb'))\n",
    "plt.figure()\n",
    "plt.hist(sequence_lengths, np.arange(101))\n",
    "plt.show()"
   ]
  },
  {
   "cell_type": "code",
   "execution_count": 9,
   "metadata": {},
   "outputs": [
    {
     "name": "stdout",
     "output_type": "stream",
     "text": [
      "collected 3093 input samples\n",
      "collected 3093 target samples\n"
     ]
    },
    {
     "data": {
      "image/png": "[encoded data removed]",
      "text/plain": [
       "<Figure size 432x288 with 1 Axes>"
      ]
     },
     "metadata": {
      "needs_background": "light"
     },
     "output_type": "display_data"
    }
   ],
   "source": [
    "# parse data to end at affect\n",
    "\n",
    "data = pd.read_csv('affect_behavior_action_clips.csv')\n",
    "data = data.sort_values(['user_id.x', 'time_sequence', 'start_time', 'attemptcount']).reset_index()\n",
    "\n",
    "fill_names = ['time_taken', 'correct', 'original', 'hint', 'hintcount', 'total_hints', 'scaffold', 'bottom_hint', 'attemptcount', 'no_prob_type', 'algebra', 'choose_1', 'choose_n', 'fill_in_1', 'open_response']\n",
    "input_names = ['time_taken', 'correct', 'original', 'hint', 'hintcount', 'total_hints', 'scaffold', 'bottom_hint', 'attemptcount', 'no_prob_type', 'algebra', 'choose_1', 'choose_n', 'fill_in_1', 'open_response', 'avg_attemptCount', 'avg_bottomHint', 'avg_correct', 'avg_frIsHelpRequest', 'avg_frPast5HelpRequest', 'avg_frPast5WrongCount', 'avg_frPast8HelpRequest', 'avg_frPast8WrongCount', 'avg_frWorkingInSchool', 'avg_hint', 'avg_hintCount', 'avg_hintTotal', 'avg_original', 'avg_past8BottomOut', 'avg_scaffold', 'avg_stlHintUsed', 'avg_timeSinceSkill', 'avg_timeTaken', 'avg_totalFrAttempted', 'avg_totalFrPastWrongCount', 'avg_totalFrPercentPastWrong', 'avg_totalFrSkillOpportunities', 'avg_totalFrTimeOnSkill', 'max_attemptCount', 'max_bottomHint', 'max_correct', 'max_frIsHelpRequest', 'max_frPast5HelpRequest', 'max_frPast5WrongCount', 'max_frPast8HelpRequest', 'max_frPast8WrongCount', 'max_frWorkingInSchool', 'max_hint', 'max_hintCount', 'max_hintTotal', 'max_original', 'max_past8BottomOut', 'max_scaffold', 'max_stlHintUsed', 'max_timeSinceSkill', 'max_timeTaken', 'max_totalFrAttempted', 'max_totalFrPastWrongCount', 'max_totalFrPercentPastWrong', 'max_totalFrSkillOpportunities', 'max_totalFrTimeOnSkill', 'min_attemptCount', 'min_bottomHint', 'min_correct', 'min_frIsHelpRequest', 'min_frPast5HelpRequest', 'min_frPast5WrongCount', 'min_frPast8HelpRequest', 'min_frPast8WrongCount', 'min_frWorkingInSchool', 'min_hint', 'min_hintCount', 'min_hintTotal', 'min_original', 'min_past8BottomOut', 'min_scaffold', 'min_stlHintUsed', 'min_timeSinceSkill', 'min_timeTaken', 'min_totalFrAttempted', 'min_totalFrPastWrongCount', 'min_totalFrPercentPastWrong', 'min_totalFrSkillOpportunities', 'min_totalFrTimeOnSkill', 'sum_attemptCount', 'sum_bottomHint', 'sum_correct', 'sum_frIsHelpRequest', 'sum_frPast5HelpRequest', 'sum_frPast5WrongCount', 'sum_frPast8HelpRequest', 'sum_frPast8WrongCount', 'sum_frWorkingInSchool', 'sum_hint', 'sum_hintCount', 'sum_hintTotal', 'sum_original', 'sum_past8BottomOut', 'sum_scaffold', 'sum_stlHintUsed', 'sum_timeSinceSkill', 'sum_timeTaken', 'sum_totalFrAttempted', 'sum_totalFrPastWrongCount', 'sum_totalFrPercentPastWrong', 'sum_totalFrSkillOpportunities', 'sum_totalFrTimeOnSkill']\n",
    "target_names = ['confusion', 'concentration', 'boredom', 'frustration']\n",
    "\n",
    "ss = StandardScaler()\n",
    "data[input_names] = ss.fit_transform(data[input_names])\n",
    "data[fill_names] = data[fill_names].fillna(0)\n",
    "\n",
    "input_data = []\n",
    "target_data = []\n",
    "sequence_lengths = []\n",
    "\n",
    "start = 0\n",
    "last_user = 0\n",
    "last_sequence = 0\n",
    "last_assignment = 0\n",
    "\n",
    "for i, row in data.iterrows():\n",
    "    user_change = last_user != row['user_id.x']\n",
    "    sequence_change = last_sequence != row['time_sequence']\n",
    "    assignment_change = last_assignment != row['assignment_id.x']\n",
    "    if (user_change or sequence_change or assignment_change):\n",
    "        start = i\n",
    "        last_user = row['user_id.x']\n",
    "        last_sequence = row['time_sequence']\n",
    "        last_assignment = row['assignment_id.x']\n",
    "    if np.sum(data.iloc[i][target_names].values) == 1:\n",
    "        stats = data.iloc[start:i+1][input_names].dropna().values\n",
    "        if stats.size > 0:\n",
    "            sequence_lengths.append(stats.shape[0])\n",
    "            input_data.append(stats)\n",
    "            target_data.append(data.iloc[i][target_names].values)\n",
    "\n",
    "print(f'collected {len(input_data)} input samples')\n",
    "print(f'collected {len(target_data)} target samples')\n",
    "pk.dump(input_data, open('input_data3.pkl', 'wb'))\n",
    "pk.dump(target_data, open('target_data3.pkl', 'wb'))\n",
    "plt.figure()\n",
    "plt.hist(sequence_lengths, np.arange(101))\n",
    "plt.show()"
   ]
  },
  {
   "cell_type": "code",
   "execution_count": null,
   "metadata": {},
   "outputs": [],
   "source": [
    "# parse data to end at affect\n",
    "\n",
    "data = pd.read_csv('affect_behavior_action_clips.csv')\n",
    "data = data.sort_values(['user_id.x', 'time_sequence', 'start_time', 'attemptcount']).reset_index()\n",
    "\n",
    "fill_names = ['time_taken', 'correct', 'original', 'hint', 'hintcount', 'total_hints', 'scaffold', 'bottom_hint', 'attemptcount', 'no_prob_type', 'algebra', 'choose_1', 'choose_n', 'fill_in_1', 'open_response']\n",
    "input_names = ['time_taken', 'correct', 'original', 'hint', 'hintcount', 'total_hints', 'scaffold', 'bottom_hint', 'attemptcount', 'no_prob_type', 'algebra', 'choose_1', 'choose_n', 'fill_in_1', 'open_response', 'avg_attemptCount', 'avg_bottomHint', 'avg_correct', 'avg_frIsHelpRequest', 'avg_frPast5HelpRequest', 'avg_frPast5WrongCount', 'avg_frPast8HelpRequest', 'avg_frPast8WrongCount', 'avg_frWorkingInSchool', 'avg_hint', 'avg_hintCount', 'avg_hintTotal', 'avg_original', 'avg_past8BottomOut', 'avg_scaffold', 'avg_stlHintUsed', 'avg_timeSinceSkill', 'avg_timeTaken', 'avg_totalFrAttempted', 'avg_totalFrPastWrongCount', 'avg_totalFrPercentPastWrong', 'avg_totalFrSkillOpportunities', 'avg_totalFrTimeOnSkill', 'max_attemptCount', 'max_bottomHint', 'max_correct', 'max_frIsHelpRequest', 'max_frPast5HelpRequest', 'max_frPast5WrongCount', 'max_frPast8HelpRequest', 'max_frPast8WrongCount', 'max_frWorkingInSchool', 'max_hint', 'max_hintCount', 'max_hintTotal', 'max_original', 'max_past8BottomOut', 'max_scaffold', 'max_stlHintUsed', 'max_timeSinceSkill', 'max_timeTaken', 'max_totalFrAttempted', 'max_totalFrPastWrongCount', 'max_totalFrPercentPastWrong', 'max_totalFrSkillOpportunities', 'max_totalFrTimeOnSkill', 'min_attemptCount', 'min_bottomHint', 'min_correct', 'min_frIsHelpRequest', 'min_frPast5HelpRequest', 'min_frPast5WrongCount', 'min_frPast8HelpRequest', 'min_frPast8WrongCount', 'min_frWorkingInSchool', 'min_hint', 'min_hintCount', 'min_hintTotal', 'min_original', 'min_past8BottomOut', 'min_scaffold', 'min_stlHintUsed', 'min_timeSinceSkill', 'min_timeTaken', 'min_totalFrAttempted', 'min_totalFrPastWrongCount', 'min_totalFrPercentPastWrong', 'min_totalFrSkillOpportunities', 'min_totalFrTimeOnSkill', 'sum_attemptCount', 'sum_bottomHint', 'sum_correct', 'sum_frIsHelpRequest', 'sum_frPast5HelpRequest', 'sum_frPast5WrongCount', 'sum_frPast8HelpRequest', 'sum_frPast8WrongCount', 'sum_frWorkingInSchool', 'sum_hint', 'sum_hintCount', 'sum_hintTotal', 'sum_original', 'sum_past8BottomOut', 'sum_scaffold', 'sum_stlHintUsed', 'sum_timeSinceSkill', 'sum_timeTaken', 'sum_totalFrAttempted', 'sum_totalFrPastWrongCount', 'sum_totalFrPercentPastWrong', 'sum_totalFrSkillOpportunities', 'sum_totalFrTimeOnSkill']\n",
    "target_names = ['confusion', 'concentration', 'boredom', 'frustration']\n",
    "\n",
    "ss = StandardScaler()\n",
    "data[input_names] = ss.fit_transform(data[input_names])\n",
    "data[fill_names] = data[fill_names].fillna(0)\n",
    "\n",
    "input_data = []\n",
    "target_data = []\n",
    "sequence_lengths = []\n",
    "\n",
    "start = 0\n",
    "last_user = 0\n",
    "last_sequence = 0\n",
    "last_assignment = 0\n",
    "\n",
    "for i, row in data.iterrows():\n",
    "    user_change = last_user != row['user_id.x']\n",
    "    sequence_change = last_sequence != row['time_sequence']\n",
    "    assignment_change = last_assignment != row['assignment_id.x']\n",
    "    if (user_change or sequence_change or assignment_change):\n",
    "        start = i\n",
    "        last_user = row['user_id.x']\n",
    "        last_sequence = row['time_sequence']\n",
    "        last_assignment = row['assignment_id.x']\n",
    "    if np.sum(data.iloc[i][target_names].values) == 1:\n",
    "        stats = data.iloc[i][input_names].dropna().values\n",
    "        if stats.size > 0:\n",
    "            sequence_lengths.append(stats.shape[0])\n",
    "            input_data.append(stats)\n",
    "            target_data.append(data.iloc[i][target_names].values)\n",
    "\n",
    "print(f'collected {len(input_data)} input samples')\n",
    "print(f'collected {len(target_data)} target samples')\n",
    "pk.dump(input_data, open('input_data4.pkl', 'wb'))\n",
    "pk.dump(target_data, open('target_data4.pkl', 'wb'))\n",
    "plt.figure()\n",
    "plt.hist(sequence_lengths, np.arange(101))\n",
    "plt.show()"
   ]
  },
  {
   "cell_type": "code",
   "execution_count": null,
   "metadata": {},
   "outputs": [],
   "source": []
  }
 ],
 "metadata": {
  "kernelspec": {
   "display_name": "Python 3",
   "language": "python",
   "name": "python3"
  },
  "language_info": {
   "codemirror_mode": {
    "name": "ipython",
    "version": 3
   },
   "file_extension": ".py",
   "mimetype": "text/x-python",
   "name": "python",
   "nbconvert_exporter": "python",
   "pygments_lexer": "ipython3",
   "version": "3.7.3"
  }
 },
 "nbformat": 4,
 "nbformat_minor": 2
}
