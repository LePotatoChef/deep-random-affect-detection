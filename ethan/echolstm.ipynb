{
 "cells": [
  {
   "cell_type": "code",
   "execution_count": null,
   "metadata": {},
   "outputs": [],
   "source": [
    "import numpy as np\n",
    "import pandas as pd\n",
    "import pickle as pk\n",
    "import matplotlib.pyplot as plt\n",
    "import keras\n",
    "from keras.models import Sequential\n",
    "from keras.layers import Dense, LSTM\n",
    "from keras.callbacks import EarlyStopping\n",
    "from sklearn.model_selection import KFold\n",
    "from sklearn.metrics import cohen_kappa_score, roc_auc_score"
   ]
  },
  {
   "cell_type": "code",
   "execution_count": null,
   "metadata": {},
   "outputs": [],
   "source": [
    "def lrcv(k, X, y):\n",
    "    \n",
    "    skf = KFold(n_splits=k, shuffle=True)\n",
    "    fold_aucs = []\n",
    "    fold_kappas = []\n",
    "    \n",
    "    # Train a logistic regression for each fold\n",
    "    for train_index, test_index in skf.split(X, y):\n",
    "        print('processing a fold')\n",
    "        X_train, X_test = X[train_index], X[test_index]\n",
    "        y_train, y_test = y[train_index], y[test_index]\n",
    "        log_reg = Sequential()\n",
    "        log_reg.add(Dense(y_train.shape[1], activation='sigmoid', input_shape=(X_train.shape[1],)))\n",
    "        es = [EarlyStopping(monitor='loss', min_delta=0.00001)]\n",
    "        log_reg.compile(optimizer='adam', loss='binary_crossentropy')\n",
    "        log_reg.fit(X_train, y_train, epochs=10000, callbacks=es, verbose=False)\n",
    "        y_pred = log_reg.predict(X_test)\n",
    "        \n",
    "        # Use the prediction to calculate metrics for each affect\n",
    "        print('processing each affect')\n",
    "        affect_aucs = []\n",
    "        affect_kappas = []\n",
    "        for y_t, y_p in zip(np.array(y_test).T, np.array(y_pred).T):\n",
    "            affect_aucs.append(roc_auc_score(y_t, y_p))\n",
    "            affect_kappas.append(cohen_kappa_score(y_t, np.around(y_p)))\n",
    "        \n",
    "        # Store the results of each affect\n",
    "        fold_aucs.append(np.mean(affect_aucs))\n",
    "        fold_kappas.append(np.mean(affect_kappas))\n",
    "    return np.mean(fold_aucs), np.mean(fold_kappas)"
   ]
  },
  {
   "cell_type": "code",
   "execution_count": null,
   "metadata": {
    "scrolled": true
   },
   "outputs": [],
   "source": [
    "input_data = pk.load(open('input_data.pkl', 'rb'))\n",
    "target_data = pk.load(open('target_data.pkl', 'rb'))\n",
    "\n",
    "layers = []\n",
    "dimention = []\n",
    "auc = []\n",
    "kappa = []\n",
    "\n",
    "for lay in range(1,4):\n",
    "    for dim in np.power(2, np.arange(12)):\n",
    "        print(lay, dim)\n",
    "        aucs = []\n",
    "        kappas = []\n",
    "        for i in range(5):\n",
    "            print('creating random lstm')\n",
    "            # Make the LSTM\n",
    "            rand_lstm = Sequential()\n",
    "            rand_lstm.add(LSTM(dim, activation='sigmoid', return_sequences=True, input_shape=(1, input_data[0].shape[1])))\n",
    "            for l in range(lay-1):\n",
    "                rand_lstm.add(LSTM(dim, activation='sigmoid', return_sequences=True))\n",
    "            rand_lstm.compile(optimizer='adam', loss='mse')\n",
    "            outputs =[l.output for l in rand_lstm.layers]\n",
    "            inter_model = keras.Model(inputs=rand_lstm.inputs, outputs=outputs)\n",
    "            \n",
    "            # Project each input into higher dimensions\n",
    "            print('projecting input sequences')\n",
    "            log_input = []\n",
    "            for input_batch in input_data:\n",
    "                input_batch = input_batch.reshape(input_batch.shape[0], 1, input_batch.shape[1])\n",
    "                batch_out = np.stack(inter_model.predict(input_batch))\n",
    "                batch_out = batch_out[-1,:,:].flatten() if lay == 1 else batch_out[:,-1,:,:].flatten()\n",
    "                log_input.append(batch_out)\n",
    "                rand_lstm.reset_states()\n",
    "            log_input = np.stack(log_input)\n",
    "            \n",
    "            # Get the average auc and kappa for all affects and folds\n",
    "            mean_auc, mean_kappa = lrcv(5, log_input, np.array(target_data).astype(int))\n",
    "            aucs.append(mean_auc)\n",
    "            kappas.append(mean_kappa)\n",
    "        layers.append(lay)\n",
    "        dimention.append(dim)\n",
    "        auc.append(np.mean(aucs))\n",
    "        kappa.append(np.mean(kappas))"
   ]
  },
  {
   "cell_type": "code",
   "execution_count": null,
   "metadata": {},
   "outputs": [],
   "source": [
    "x = 12\n",
    "\n",
    "plt.figure()\n",
    "for i in range(3):\n",
    "    plt.plot(dimention[i*x:i*x+x], auc[i*x:i*x+x], marker='.', label=f'{i+1} Layer LSTM')\n",
    "plt.xlabel('Projected Dimensions')\n",
    "plt.ylabel('ROC AUC')\n",
    "plt.title('Random LSTM Results')\n",
    "plt.legend()\n",
    "plt.show()\n",
    "\n",
    "plt.figure()\n",
    "for i in range(3):\n",
    "    plt.plot(dimention[i*x:i*x+x], kappa[i*x:i*x+x], marker='.', label=f'{i+1} Layer LSTM')\n",
    "plt.xlabel('Projected Dimensions')\n",
    "plt.ylabel('Cohen\\'s Kappa')\n",
    "plt.title('Random LSTM Results')\n",
    "plt.legend()\n",
    "plt.show()"
   ]
  },
  {
   "cell_type": "code",
   "execution_count": null,
   "metadata": {},
   "outputs": [],
   "source": []
  }
 ],
 "metadata": {
  "kernelspec": {
   "display_name": "Python 3",
   "language": "python",
   "name": "python3"
  },
  "language_info": {
   "codemirror_mode": {
    "name": "ipython",
    "version": 3
   },
   "file_extension": ".py",
   "mimetype": "text/x-python",
   "name": "python",
   "nbconvert_exporter": "python",
   "pygments_lexer": "ipython3",
   "version": "3.7.3"
  }
 },
 "nbformat": 4,
 "nbformat_minor": 2
}
