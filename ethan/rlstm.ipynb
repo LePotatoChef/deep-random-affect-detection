{
 "cells": [
  {
   "cell_type": "code",
   "execution_count": 20,
   "metadata": {},
   "outputs": [],
   "source": [
    "import numpy as np\n",
    "import pandas as pd\n",
    "import pickle as pk\n",
    "import matplotlib.pyplot as plt\n",
    "from keras.models import Sequential\n",
    "from keras.layers import Dense, LSTM\n",
    "from sklearn.linear_model import LogisticRegressionCV"
   ]
  },
  {
   "cell_type": "code",
   "execution_count": null,
   "metadata": {},
   "outputs": [
    {
     "name": "stdout",
     "output_type": "stream",
     "text": [
      "1 1\n",
      "made data\n",
      "made data\n",
      "made data\n",
      "made data\n",
      "made data\n",
      "1 2\n",
      "made data\n",
      "made data\n",
      "made data\n",
      "made data\n"
     ]
    }
   ],
   "source": [
    "input_data = pk.load(open('input_data.pkl', 'rb'))\n",
    "target_data = pk.load(open('target_data.pkl', 'rb'))\n",
    "\n",
    "layers = []\n",
    "dimention = []\n",
    "score = []\n",
    "\n",
    "for lay in range(1,9):\n",
    "    for dim in np.power(2, np.arange(12)):\n",
    "        print(lay, dim)\n",
    "        scores = []\n",
    "        for i in range(5):\n",
    "            log_input = []\n",
    "            rand_lstm = Sequential()\n",
    "            rand_lstm.add(LSTM(dim, activation='relu', return_sequences=True, input_shape=(1, input_data[0].shape[1])))\n",
    "            for l in range(lay-1):\n",
    "                rand_lstm.add(LSTM(dim, activation='relu', return_sequences=True))\n",
    "            rand_lstm.compile(optimizer='adam', loss='mse')\n",
    "            for input_batch in input_data:\n",
    "                input_batch = input_batch.reshape(input_batch.shape[0], 1, input_batch.shape[1])\n",
    "                batch_out = rand_lstm.predict(input_batch)\n",
    "                log_input.append(batch_out[-1,:][0])\n",
    "                rand_lstm.reset_states()\n",
    "            print(\"made data\")\n",
    "            log_input = np.stack(log_input)\n",
    "            cvlr = LogisticRegressionCV(Cs=1, cv=10, scoring='roc_auc', max_iter=10000)\n",
    "            each_score = []\n",
    "            for t in np.array(target_data).T:\n",
    "                t = t.astype('int')\n",
    "                cvlr.fit(log_input, t)\n",
    "                each_score.append(np.mean(cvlr.scores_[1]))\n",
    "            scores.append(np.mean(each_score))\n",
    "        layers.append(lay)\n",
    "        dimention.append(dim)\n",
    "        score.append(np.mean(scores))"
   ]
  },
  {
   "cell_type": "code",
   "execution_count": null,
   "metadata": {},
   "outputs": [],
   "source": [
    "plt.figure()\n",
    "for i in range(8):\n",
    "    plt.plot(dimention[i*12:i*12+12], score[i*12:i*12+12], marker='.', label=f'{i+1} Layer LSTM')\n",
    "plt.xlabel('Projected Dimensions')\n",
    "plt.ylabel('ROC AUC')\n",
    "plt.title('Bag of Random Embeddings Results')\n",
    "plt.legend()\n",
    "plt.show()"
   ]
  },
  {
   "cell_type": "code",
   "execution_count": null,
   "metadata": {},
   "outputs": [],
   "source": []
  }
 ],
 "metadata": {
  "kernelspec": {
   "display_name": "Python 3",
   "language": "python",
   "name": "python3"
  },
  "language_info": {
   "codemirror_mode": {
    "name": "ipython",
    "version": 3
   },
   "file_extension": ".py",
   "mimetype": "text/x-python",
   "name": "python",
   "nbconvert_exporter": "python",
   "pygments_lexer": "ipython3",
   "version": "3.7.3"
  }
 },
 "nbformat": 4,
 "nbformat_minor": 2
}
