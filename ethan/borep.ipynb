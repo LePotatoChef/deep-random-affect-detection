{
 "cells": [
  {
   "cell_type": "code",
   "execution_count": null,
   "metadata": {},
   "outputs": [],
   "source": [
    "import numpy as np\n",
    "import pandas as pd\n",
    "import pickle as pk\n",
    "import matplotlib.pyplot as plt\n",
    "from keras.models import Sequential\n",
    "from keras.layers import Dense\n",
    "from keras.callbacks import EarlyStopping\n",
    "from sklearn.model_selection import KFold\n",
    "from sklearn.metrics import cohen_kappa_score, roc_auc_score"
   ]
  },
  {
   "cell_type": "code",
   "execution_count": null,
   "metadata": {},
   "outputs": [],
   "source": [
    "def lrcv(k, X, y):\n",
    "    \n",
    "    skf = KFold(n_splits=k, shuffle=True)\n",
    "    fold_aucs = []\n",
    "    fold_kappas = []\n",
    "    \n",
    "    # Train a logistic regression for each fold\n",
    "    for train_index, test_index in skf.split(X, y):\n",
    "        print('processing a fold')\n",
    "        X_train, X_test = X[train_index], X[test_index]\n",
    "        y_train, y_test = y[train_index], y[test_index]\n",
    "        log_reg = Sequential()\n",
    "        log_reg.add(Dense(y_train.shape[1], activation='sigmoid', input_shape=(X_train.shape[1],)))\n",
    "        es = [EarlyStopping(monitor='loss', min_delta=0.00001)]\n",
    "        log_reg.compile(optimizer='adam', loss='binary_crossentropy')\n",
    "        log_reg.fit(X_train, y_train, epochs=10000, callbacks=es, verbose=False)\n",
    "        y_pred = log_reg.predict(X_test)\n",
    "        \n",
    "        # Use the prediction to calculate metrics for each affect\n",
    "        print('processing each affect')\n",
    "        affect_aucs = []\n",
    "        affect_kappas = []\n",
    "        for y_t, y_p in zip(np.array(y_test).T, np.array(y_pred).T):\n",
    "            affect_aucs.append(roc_auc_score(y_t, y_p))\n",
    "            affect_kappas.append(cohen_kappa_score(y_t, np.around(y_p)))\n",
    "        \n",
    "        # Store the results of each affect\n",
    "        fold_aucs.append(np.mean(affect_aucs))\n",
    "        fold_kappas.append(np.mean(affect_kappas))\n",
    "    return np.mean(fold_aucs), np.mean(fold_kappas)"
   ]
  },
  {
   "cell_type": "code",
   "execution_count": null,
   "metadata": {
    "scrolled": false
   },
   "outputs": [],
   "source": [
    "input_data = pk.load(open('input_data.pkl', 'rb'))\n",
    "target_data = pk.load(open('target_data.pkl', 'rb'))\n",
    "\n",
    "pooling = []\n",
    "dimention = []\n",
    "auc = []\n",
    "kappa = []\n",
    "\n",
    "for pooling_name, pooling_function in zip(['Max Pooling', 'Mean Pooling'], [np.max, np.mean]):\n",
    "    for dim in np.power(2, np.arange(12)):\n",
    "        print(pooling_name, dim)\n",
    "        aucs = []\n",
    "        kappas = []\n",
    "        for i in range(5):\n",
    "            print('creating bag of random embeddings')\n",
    "            random_embedding = (np.random.rand(input_data[0].shape[1], dim) * 2 - 1) * np.sqrt(input_data[0].shape[1])\n",
    "            \n",
    "            print('projecting input sequences')\n",
    "            log_input = []\n",
    "            for input_batch in input_data:\n",
    "                embedded_input = np.dot(input_batch, random_embedding)\n",
    "                embedded_input = pooling_function(embedded_input, axis=0)\n",
    "                log_input.append(embedded_input)\n",
    "            log_input = np.stack(log_input)\n",
    "            \n",
    "            # Get the average auc and kappa for all affects and folds\n",
    "            mean_auc, mean_kappa = lrcv(5, log_input, np.array(target_data).astype(int))\n",
    "            aucs.append(mean_auc)\n",
    "            kappas.append(mean_kappa)\n",
    "        pooling.append(pooling_name)\n",
    "        dimention.append(dim)\n",
    "        auc.append(np.mean(aucs))\n",
    "        kappa.append(np.mean(kappas))"
   ]
  },
  {
   "cell_type": "code",
   "execution_count": null,
   "metadata": {},
   "outputs": [],
   "source": [
    "plt.figure()\n",
    "plt.plot(dimention[:12], auc[:12], marker='.', label='Max Pooling')\n",
    "plt.plot(dimention[12:], auc[12:], marker='.', label='Mean Pooling')\n",
    "plt.xlabel('Projected Dimensions')\n",
    "plt.ylabel('ROC AUC')\n",
    "plt.title('Bag of Random Embeddings Results')\n",
    "plt.legend()\n",
    "plt.show()\n",
    "\n",
    "plt.figure()\n",
    "plt.plot(dimention[:12], kappa[:12], marker='.', label='Max Pooling')\n",
    "plt.plot(dimention[12:], kappa[12:], marker='.', label='Mean Pooling')\n",
    "plt.xlabel('Projected Dimensions')\n",
    "plt.ylabel('Cohen\\'s Kappa')\n",
    "plt.title('Bag of Random Embeddings Results')\n",
    "plt.legend()\n",
    "plt.show()"
   ]
  },
  {
   "cell_type": "code",
   "execution_count": null,
   "metadata": {},
   "outputs": [],
   "source": []
  }
 ],
 "metadata": {
  "kernelspec": {
   "display_name": "Python 3",
   "language": "python",
   "name": "python3"
  },
  "language_info": {
   "codemirror_mode": {
    "name": "ipython",
    "version": 3
   },
   "file_extension": ".py",
   "mimetype": "text/x-python",
   "name": "python",
   "nbconvert_exporter": "python",
   "pygments_lexer": "ipython3",
   "version": "3.7.3"
  }
 },
 "nbformat": 4,
 "nbformat_minor": 2
}
