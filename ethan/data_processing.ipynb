{
 "cells": [
  {
   "cell_type": "code",
   "execution_count": 39,
   "metadata": {},
   "outputs": [],
   "source": [
    "import numpy as np\n",
    "import pandas as pd\n",
    "import matplotlib.pyplot as plt\n",
    "from sklearn.decomposition import FactorAnalysis\n",
    "from sklearn.linear_model import LogisticRegression"
   ]
  },
  {
   "cell_type": "code",
   "execution_count": 36,
   "metadata": {
    "scrolled": true
   },
   "outputs": [
    {
     "name": "stdout",
     "output_type": "stream",
     "text": [
      "collected 3111 input samples\n",
      "collected 3111 target samples\n"
     ]
    },
    {
     "data": {
      "image/png": "[encoded data removed]",
      "text/plain": [
       "<Figure size 432x288 with 1 Axes>"
      ]
     },
     "metadata": {
      "needs_background": "light"
     },
     "output_type": "display_data"
    }
   ],
   "source": [
    "# parse data to end at affect\n",
    "\n",
    "data = pd.read_csv('affect_behavior_action_clips.csv')\n",
    "data = data.sort_values(['user_id.x', 'time_sequence', 'assignment_id.x', 'start_time', 'attemptcount']).reset_index()\n",
    "\n",
    "input_names = ['time_taken', 'correct', 'original', 'hint', 'hintcount', 'total_hints', 'scaffold', 'bottom_hint', 'attemptcount', 'no_prob_type', 'algebra', 'choose_1', 'choose_n', 'fill_in_1', 'open_response']\n",
    "target_names = ['confusion', 'concentration', 'boredom', 'frustration']\n",
    "\n",
    "input_data = []\n",
    "target_data = []\n",
    "sequence_lengths = []\n",
    "\n",
    "start = 0\n",
    "last_assignment_id = 0\n",
    "for i, row in data.iterrows():\n",
    "    if last_assignment_id != row['assignment_id.x']:\n",
    "        start = i\n",
    "        last_assignment_id = row['assignment_id.x']\n",
    "    if not np.isnan(data.iloc[i]['confusion']):\n",
    "        sequence_lengths.append(i+1 - start)\n",
    "        input_data.append(data.iloc[start:i+1][input_names].fillna(0).values)\n",
    "        target_data.append(data.iloc[i][target_names].values)\n",
    "\n",
    "print(f'collected {len(input_data)} input samples')\n",
    "print(f'collected {len(target_data)} target samples')\n",
    "plt.figure()\n",
    "plt.hist(sequence_lengths, np.arange(101))\n",
    "plt.show()"
   ]
  },
  {
   "cell_type": "code",
   "execution_count": null,
   "metadata": {
    "scrolled": false
   },
   "outputs": [
    {
     "name": "stdout",
     "output_type": "stream",
     "text": [
      "1\n",
      "2\n",
      "4\n",
      "8\n",
      "16\n",
      "32\n",
      "64\n",
      "128\n",
      "256\n",
      "512\n"
     ]
    }
   ],
   "source": [
    "pooling = []\n",
    "dimention = []\n",
    "score = []\n",
    "\n",
    "for pooling_name, pooling_function in zip(['Max Pooling', 'Mean Pooling'], [np.max, np.mean]):\n",
    "    for dim in np.power(2, np.arange(17)):\n",
    "        scores = []\n",
    "        print(dim)\n",
    "        for i in range(5):\n",
    "            log_input = []\n",
    "            random_embedding = (np.random.rand(len(input_names), dim) * 2 - 1) * np.sqrt(len(input_names))\n",
    "            for i in input_data:\n",
    "                embedded_input = np.dot(i, random_embedding)\n",
    "                embedded_input = pooling_function(embedded_input, axis=0)\n",
    "                log_input.append(embedded_input)\n",
    "            log_input = np.stack(log_input)\n",
    "            cvlr = LogisticRegressionCV(Cs=1, cv=10, scoring='roc_auc', max_iter=10000)\n",
    "            each_score = []\n",
    "            for t in np.array(target_data).T:\n",
    "                t = t.astype('int')\n",
    "                cvlr.fit(log_input, t)\n",
    "                each_score.append(np.mean(cvlr.scores_[1]))\n",
    "            scores.append(np.mean(each_score))\n",
    "        pooling.append(pooling_name)\n",
    "        dimention.append(dim)\n",
    "        score.append(np.mean(scores))"
   ]
  },
  {
   "cell_type": "code",
   "execution_count": null,
   "metadata": {},
   "outputs": [],
   "source": [
    "plt.figure()\n",
    "plt.scatter(dimention, score, color='blue' if 'Max' in p else 'orange')\n",
    "plt.show()"
   ]
  },
  {
   "cell_type": "code",
   "execution_count": null,
   "metadata": {
    "scrolled": true
   },
   "outputs": [],
   "source": [
    "# parse data to group by student-assignment-timesequence\n",
    "\n",
    "data = pd.read_csv('affect_behavior_action_clips.csv')\n",
    "\n",
    "input_names = ['time_taken', 'correct', 'original', 'hint', 'hintcount', 'total_hints', 'scaffold', 'bottom_hint', 'attemptcount', 'no_prob_type', 'algebra', 'choose_1', 'choose_n', 'fill_in_1', 'open_response']\n",
    "target_names = ['confusion', 'concentration', 'boredom', 'frustration']\n",
    "\n",
    "def convert(data):\n",
    "    data = data.sort_values(['start_time', 'attemptcount'])\n",
    "    parsed = pd.Series()\n",
    "    parsed['input'] = data[input_names].values\n",
    "    parsed['target'] = data[target_names].values\n",
    "    return parsed\n",
    "\n",
    "data = data.groupby(['user_id.x', 'time_sequence', 'assignment_id.x']).apply(convert).reset_index()\n",
    "print(len(data))\n",
    "data = data[~data['target'].apply(lambda x: np.all(np.isnan(x)))]\n",
    "print(len(data))\n",
    "plt.figure()\n",
    "plt.hist(data['target'].apply(lambda x: x.shape[0]), np.arange(101))\n",
    "plt.show"
   ]
  }
 ],
 "metadata": {
  "kernelspec": {
   "display_name": "Python 3",
   "language": "python",
   "name": "python3"
  },
  "language_info": {
   "codemirror_mode": {
    "name": "ipython",
    "version": 3
   },
   "file_extension": ".py",
   "mimetype": "text/x-python",
   "name": "python",
   "nbconvert_exporter": "python",
   "pygments_lexer": "ipython3",
   "version": "3.7.3"
  }
 },
 "nbformat": 4,
 "nbformat_minor": 2
}
