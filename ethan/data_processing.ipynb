{
 "cells": [
  {
   "cell_type": "code",
   "execution_count": 1,
   "metadata": {},
   "outputs": [],
   "source": [
    "import tensorflow as tf\n",
    "import numpy as np\n",
    "import pandas as pd\n",
    "import pickle as pk\n",
    "from sklearn.preprocessing import StandardScaler, MinMaxScaler\n",
    "import matplotlib.pyplot as plt"
   ]
  },
  {
   "cell_type": "code",
   "execution_count": 2,
   "metadata": {
    "scrolled": true
   },
   "outputs": [
    {
     "name": "stdout",
     "output_type": "stream",
     "text": [
      "collected 3093 input samples\n",
      "collected 3093 target samples\n"
     ]
    },
    {
     "data": {
      "image/png": "[encoded data removed]",
      "text/plain": [
       "<Figure size 432x288 with 1 Axes>"
      ]
     },
     "metadata": {
      "needs_background": "light"
     },
     "output_type": "display_data"
    }
   ],
   "source": [
    "# parse data to end at affect\n",
    "\n",
    "data = pd.read_csv('affect_behavior_action_clips.csv')\n",
    "data = data.sort_values(['user_id.x', 'time_sequence', 'start_time', 'attemptcount']).reset_index()\n",
    "\n",
    "input_names = ['time_taken', 'correct', 'original', 'hint', 'hintcount', 'total_hints', 'scaffold', 'bottom_hint', 'attemptcount', 'no_prob_type', 'algebra', 'choose_1', 'choose_n', 'fill_in_1', 'open_response']\n",
    "target_names = ['confusion', 'concentration', 'boredom', 'frustration']\n",
    "\n",
    "ss = StandardScaler()\n",
    "data[input_names] = ss.fit_transform(data[input_names])\n",
    "\n",
    "input_data = []\n",
    "target_data = []\n",
    "sequence_lengths = []\n",
    "\n",
    "start = 0\n",
    "last_user = 0\n",
    "last_sequence = 0\n",
    "last_assignment = 0\n",
    "\n",
    "for i, row in data.iterrows():\n",
    "    user_change = last_user != row['user_id.x']\n",
    "    sequence_change = last_sequence != row['time_sequence']\n",
    "    assignment_change = last_assignment != row['assignment_id.x']\n",
    "    if (user_change or sequence_change or assignment_change):\n",
    "        start = i\n",
    "        last_user = row['user_id.x']\n",
    "        last_sequence = row['time_sequence']\n",
    "        last_assignment = row['assignment_id.x']\n",
    "    if np.sum(data.iloc[i][target_names].values) == 1:\n",
    "        sequence_lengths.append(i+1 - start)\n",
    "        input_data.append(data.iloc[start:i+1][input_names].fillna(0).values)\n",
    "        target_data.append(data.iloc[i][target_names].values)\n",
    "\n",
    "print(f'collected {len(input_data)} input samples')\n",
    "print(f'collected {len(target_data)} target samples')\n",
    "pk.dump(input_data, open('input_data.pkl', 'wb'))\n",
    "pk.dump(target_data, open('target_data.pkl', 'wb'))\n",
    "plt.figure()\n",
    "plt.hist(sequence_lengths, np.arange(101))\n",
    "plt.show()"
   ]
  },
  {
   "cell_type": "code",
   "execution_count": null,
   "metadata": {},
   "outputs": [],
   "source": []
  }
 ],
 "metadata": {
  "kernelspec": {
   "display_name": "Python 3",
   "language": "python",
   "name": "python3"
  },
  "language_info": {
   "codemirror_mode": {
    "name": "ipython",
    "version": 3
   },
   "file_extension": ".py",
   "mimetype": "text/x-python",
   "name": "python",
   "nbconvert_exporter": "python",
   "pygments_lexer": "ipython3",
   "version": "3.7.3"
  }
 },
 "nbformat": 4,
 "nbformat_minor": 2
}
